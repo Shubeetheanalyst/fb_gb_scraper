{
 "cells": [
  {
   "cell_type": "code",
   "execution_count": 5,
   "id": "9548cb8a",
   "metadata": {},
   "outputs": [],
   "source": [
    "# import pandas as pd\n",
    "\n",
    "# # Read in the input Excel file containing the full names\n",
    "# input_file = r\"C:\\Users\\hp\\Music\\fb_profile_scrap_beautifulsoup\\new\\fb_profile_memeber_urls&Name(1 to 2033)..xlsx\"\n",
    "\n",
    "# # Define a function to separate the first and last name from a given full name\n",
    "# def split_name(full_name):\n",
    "#     parts = full_name.split()\n",
    "#     if len(parts) > 1:\n",
    "#         first_name = parts[0]\n",
    "#         last_name = ' '.join(parts[1:])\n",
    "#         return (first_name, last_name)\n",
    "#     else:\n",
    "#         return (full_name, None)\n",
    "\n",
    "# # Apply the split_name function to each row in the input DataFrame\n",
    "# df[['First Name', 'Last Name']] = df['Name'].apply(lambda x: pd.Series(split_name(x)))\n",
    "\n",
    "# # Save the results to a new Excel file\n",
    "# output_file = \"output.xlsx\"\n",
    "# df.to_excel(output_file, index=False)"
   ]
  },
  {
   "cell_type": "code",
   "execution_count": 6,
   "id": "dba6a7cf",
   "metadata": {},
   "outputs": [],
   "source": [
    "import pandas as pd\n",
    "\n",
    "# Read in the input Excel file containing the full names\n",
    "input_file = r\"C:\\Users\\hp\\Music\\fb_profile_scrap_beautifulsoup\\new\\fb_profile_memeber_urls&Name(1 to 2033)..xlsx\"\n",
    "df = pd.read_excel(input_file)\n",
    "\n",
    "# Define a function to separate the first and last name from a given full name\n",
    "def split_name(full_name):\n",
    "    if isinstance(full_name, str):\n",
    "        parts = full_name.split()\n",
    "        if len(parts) > 1:\n",
    "            first_name = parts[0]\n",
    "            last_name = ' '.join(parts[1:])\n",
    "            return (first_name, last_name)\n",
    "        else:\n",
    "            return (full_name, None)\n",
    "    else:\n",
    "        return (None, None)\n",
    "\n",
    "# Apply the split_name function to each row in the input DataFrame\n",
    "df[['First Name', 'Last Name']] = df['Name'].apply(lambda x: pd.Series(split_name(x)))\n",
    "\n",
    "# Save the results to a new Excel file\n",
    "output_file = \"output.xlsx\"\n",
    "df.to_excel(output_file, index=False)"
   ]
  },
  {
   "cell_type": "code",
   "execution_count": null,
   "id": "aeaab721",
   "metadata": {},
   "outputs": [],
   "source": []
  }
 ],
 "metadata": {
  "kernelspec": {
   "display_name": "Python 3 (ipykernel)",
   "language": "python",
   "name": "python3"
  },
  "language_info": {
   "codemirror_mode": {
    "name": "ipython",
    "version": 3
   },
   "file_extension": ".py",
   "mimetype": "text/x-python",
   "name": "python",
   "nbconvert_exporter": "python",
   "pygments_lexer": "ipython3",
   "version": "3.9.13"
  }
 },
 "nbformat": 4,
 "nbformat_minor": 5
}
