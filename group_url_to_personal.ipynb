{
 "cells": [
  {
   "cell_type": "markdown",
   "id": "bdb67f32",
   "metadata": {},
   "source": [
    "# Testing"
   ]
  },
  {
   "cell_type": "code",
   "execution_count": null,
   "id": "e5b1b4b4",
   "metadata": {},
   "outputs": [],
   "source": [
    "#################################################"
   ]
  },
  {
   "cell_type": "code",
   "execution_count": 37,
   "id": "d1f82c72",
   "metadata": {},
   "outputs": [],
   "source": [
    "from webdriver_manager.chrome import ChromeDriverManager\n",
    "from selenium.webdriver.chrome.options import Options\n",
    "from selenium import webdriver\n",
    "from selenium.webdriver.common.keys import Keys\n",
    "from time import sleep\n",
    "from selenium.webdriver.common.by import By\n",
    "from selenium.webdriver.support.ui import WebDriverWait\n",
    "from selenium.webdriver.support import expected_conditions as EC\n",
    "from selenium.common.exceptions import TimeoutException\n",
    "from openpyxl import Workbook\n",
    "import time\n",
    "import pandas as pd\n",
    "from selenium.webdriver.support.ui import WebDriverWait\n",
    "from selenium.webdriver.support import expected_conditions as EC\n",
    "from selenium.webdriver.common.by import By\n",
    "import requests\n",
    "from bs4 import BeautifulSoup\n",
    "from selenium import webdriver\n",
    "from webdriver_manager.chrome import ChromeDriverManager\n",
    "import time\n",
    "def web_driver_chrome():\n",
    "    chrome_options = Options()\n",
    "\n",
    "# #     chrome_options.add_argument(\"--incognito\")\n",
    "    chrome_options =webdriver.ChromeOptions()\n",
    "    chrome_prefs = {}\n",
    "    chrome_options.experimental_options[\"prefs\"] = chrome_prefs\n",
    "    chrome_prefs[\"profile.default_content_settings\"] = {\"images\": 2}\n",
    "    chrome_prefs[\"profile.managed_default_content_settings\"] = {\"images\": 2}\n",
    "    chrome_options.add_argument(\"--disable-application-cache\")\n",
    "    driver = webdriver.Chrome(ChromeDriverManager().install(),chrome_options=chrome_options)\n",
    "    chrome_options.add_experimental_option(\"detach\", True)\n",
    "    chrome_options.add_experimental_option(\"useAutomationExtension\", False)\n",
    "    chrome_options.add_experimental_option(\"excludeSwitches\",[\"enable-automation\"])\n",
    "    chrome_prefs = {}\n",
    "    driver = webdriver.Chrome(ChromeDriverManager().install(),options=chrome_options)\n",
    "    try:\n",
    "        driver.maximize_window()\n",
    "    except:pass\n",
    "    driver.get(\"https://www.google.com/\")\n",
    "    return driver\n",
    "    "
   ]
  },
  {
   "cell_type": "code",
   "execution_count": 38,
   "id": "97092d0b",
   "metadata": {},
   "outputs": [
    {
     "name": "stderr",
     "output_type": "stream",
     "text": [
      "C:\\Users\\hp\\AppData\\Local\\Temp\\ipykernel_19736\\2831431270.py:31: DeprecationWarning: executable_path has been deprecated, please pass in a Service object\n",
      "  driver = webdriver.Chrome(ChromeDriverManager().install(),chrome_options=chrome_options)\n",
      "C:\\Users\\hp\\AppData\\Local\\Temp\\ipykernel_19736\\2831431270.py:31: DeprecationWarning: use options instead of chrome_options\n",
      "  driver = webdriver.Chrome(ChromeDriverManager().install(),chrome_options=chrome_options)\n",
      "C:\\Users\\hp\\AppData\\Local\\Temp\\ipykernel_19736\\2831431270.py:36: DeprecationWarning: executable_path has been deprecated, please pass in a Service object\n",
      "  driver = webdriver.Chrome(ChromeDriverManager().install(),options=chrome_options)\n"
     ]
    },
    {
     "name": "stdout",
     "output_type": "stream",
     "text": [
      "\n"
     ]
    },
    {
     "data": {
      "text/plain": [
       "''"
      ]
     },
     "execution_count": 38,
     "metadata": {},
     "output_type": "execute_result"
    }
   ],
   "source": [
    "driver = web_driver_chrome()\n",
    "input()\n",
    "# Navigate to"
   ]
  },
  {
   "cell_type": "code",
   "execution_count": 39,
   "id": "fc735c7f",
   "metadata": {},
   "outputs": [],
   "source": [
    "def get_val_By_TAG_NAME(tag_name_selector):\n",
    "    \n",
    "        try:name = driver.find_element(By.TAG_NAME,str(tag_name_selector)).text\n",
    "        except:name = 'Not found'\n",
    "        return name"
   ]
  },
  {
   "cell_type": "code",
   "execution_count": 42,
   "id": "bae9b0d5",
   "metadata": {},
   "outputs": [
    {
     "data": {
      "text/plain": [
       "[]"
      ]
     },
     "execution_count": 42,
     "metadata": {},
     "output_type": "execute_result"
    }
   ],
   "source": [
    "input_file = r\"C:\\Users\\hp\\Music\\fb_profile_scrap_beautifulsoup\\new\\4096.xlsx\"\n",
    "df = pd.read_excel(r\"C:\\Users\\hp\\Music\\fb_profile_scrap_beautifulsoup\\new\\4096.xlsx\")\n",
    "list(set(df['urls'].to_list()))[2577:]"
   ]
  },
  {
   "cell_type": "code",
   "execution_count": 54,
   "id": "9e096123",
   "metadata": {},
   "outputs": [
    {
     "data": {
      "text/plain": [
       "2037"
      ]
     },
     "execution_count": 54,
     "metadata": {},
     "output_type": "execute_result"
    }
   ],
   "source": [
    "zz= list(set(df['urls'].to_list()))\n",
    "len(zz)"
   ]
  },
  {
   "cell_type": "code",
   "execution_count": 35,
   "id": "0f65e437",
   "metadata": {},
   "outputs": [],
   "source": [
    "name_list      = []\n",
    "profiles_list  = []\n",
    "\n",
    "# Read in the input Excel file containing the Facebook group member profile URLs\n",
    "input_file = r\"C:\\Users\\hp\\Music\\fb_profile_scrap_beautifulsoup\\new\\4096.xlsx\"\n",
    "df = pd.read_excel(input_file)\n",
    "\n",
    "for url in list(set(df['urls'].to_list()))[2577:]:\n",
    "    # Navigate to the URL\n",
    "    driver.get(url)\n",
    "    user_Idss  = driver.current_url.split(\"/user/\")[-1].replace('/','')\n",
    "    profile    = f'https://www.facebook.com/profile.php?id={user_Idss}'\n",
    "    driver.get(profile)\n",
    "    \n",
    "    \n",
    "    \n",
    "    profiles_list.append(profile)\n",
    "    name_list.append(get_val_By_TAG_NAME('h1'))"
   ]
  },
  {
   "cell_type": "code",
   "execution_count": null,
   "id": "cf5c9176",
   "metadata": {
    "scrolled": true
   },
   "outputs": [],
   "source": [
    "df['url'].to_list()"
   ]
  },
  {
   "cell_type": "code",
   "execution_count": null,
   "id": "6f692476",
   "metadata": {},
   "outputs": [],
   "source": [
    "list(set(df['url'].to_list()))"
   ]
  },
  {
   "cell_type": "code",
   "execution_count": 33,
   "id": "4d3189fb",
   "metadata": {},
   "outputs": [
    {
     "data": {
      "text/plain": [
       "[]"
      ]
     },
     "execution_count": 33,
     "metadata": {},
     "output_type": "execute_result"
    }
   ],
   "source": [
    "name_list"
   ]
  },
  {
   "cell_type": "code",
   "execution_count": 34,
   "id": "6b1b750b",
   "metadata": {},
   "outputs": [
    {
     "data": {
      "text/plain": [
       "[]"
      ]
     },
     "execution_count": 34,
     "metadata": {},
     "output_type": "execute_result"
    }
   ],
   "source": [
    "profiles_list"
   ]
  },
  {
   "cell_type": "code",
   "execution_count": 25,
   "id": "dfc9574a",
   "metadata": {},
   "outputs": [],
   "source": [
    "# Create a new DataFrame from the scraped data\n",
    "data = {'Name':name_list,'profile_url': profiles_list}\n",
    "result_df = pd.DataFrame(data)"
   ]
  },
  {
   "cell_type": "code",
   "execution_count": null,
   "id": "77731391",
   "metadata": {},
   "outputs": [],
   "source": [
    "result_df"
   ]
  },
  {
   "cell_type": "code",
   "execution_count": 26,
   "id": "234bbc5d",
   "metadata": {},
   "outputs": [],
   "source": [
    "# Save the DataFrame to a new Excel file\n",
    "result_df.to_excel('fb_profile_memeber_urls&Name(1787 to 4096)..xlsx', index=False)"
   ]
  },
  {
   "cell_type": "code",
   "execution_count": null,
   "id": "50e56a36",
   "metadata": {},
   "outputs": [],
   "source": [
    "# Save the DataFrame to a new Excel file\n",
    "result_df.to_excel(\"result(2304to3331).xlsx\", index=False)"
   ]
  }
 ],
 "metadata": {
  "kernelspec": {
   "display_name": "Python 3 (ipykernel)",
   "language": "python",
   "name": "python3"
  },
  "language_info": {
   "codemirror_mode": {
    "name": "ipython",
    "version": 3
   },
   "file_extension": ".py",
   "mimetype": "text/x-python",
   "name": "python",
   "nbconvert_exporter": "python",
   "pygments_lexer": "ipython3",
   "version": "3.9.13"
  }
 },
 "nbformat": 4,
 "nbformat_minor": 5
}
