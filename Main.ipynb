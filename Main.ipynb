{
 "cells": [
  {
   "cell_type": "markdown",
   "id": "9d1445e7",
   "metadata": {},
   "source": [
    "# Liabraries"
   ]
  },
  {
   "cell_type": "code",
   "execution_count": 1,
   "id": "2cc5cc94",
   "metadata": {},
   "outputs": [],
   "source": [
    "from ast                                import literal_eval\n",
    "from IPython.display                    import clear_output\n",
    "from bs4                                import BeautifulSoup as bs\n",
    "from selenium                           import webdriver\n",
    "from selenium.webdriver.common.by       import By\n",
    "from selenium.webdriver.chrome.options  import Options\n",
    "from selenium.webdriver.support.ui      import WebDriverWait\n",
    "from selenium.common.exceptions         import TimeoutException\n",
    "from webdriver_manager.chrome           import ChromeDriverManager\n",
    "from selenium.webdriver.support         import expected_conditions as EC\n",
    "import pandas as pd, requests as rq, time, os, sys, logging, re"
   ]
  },
  {
   "cell_type": "markdown",
   "id": "c24eaa72",
   "metadata": {},
   "source": [
    "- Function"
   ]
  },
  {
   "cell_type": "code",
   "execution_count": 2,
   "id": "03e90f85",
   "metadata": {},
   "outputs": [],
   "source": [
    "def get_data(source):\n",
    "    work_at    = lives_in =  studies_in = ''\n",
    "    work_at_pattern    = r'\"text\":\"Works at .*?\"'\n",
    "    lives_in_pattern   = r'\"text\":\"Lives in .*?\"'\n",
    "    studies_in_pattern = r'\"text\":\"Studies at .*?\"'\n",
    "    work_at_p          = re.search(work_at_pattern, source)\n",
    "    lives_in_p         = re.search(lives_in_pattern, source)\n",
    "    studies_in_p       = re.search(studies_in_pattern, source)\n",
    "    if work_at_p:\n",
    "        work_at = work_at_p.group().replace('\"text\":','').replace('\"','')\n",
    "    if lives_in_p:\n",
    "        lives_in = lives_in_p.group().replace('\"text\":','').replace('\"','')\n",
    "    if studies_in_p:\n",
    "        studies_in = studies_in_p.group().replace('\"text\":','').replace('\"','')\n",
    "    return work_at, lives_in, studies_in\n",
    "\n",
    "def chrome_browser():\n",
    "    chrome_options = Options()\n",
    "    chrome_prefs = {}\n",
    "    chrome_prefs[\"profile.default_content_settings\"] = {\"images\": 2}\n",
    "    chrome_prefs[\"profile.managed_default_content_settings\"] = {\"images\": 2}\n",
    "    chrome_options.add_argument(\"start-maximized\")\n",
    "    chrome_options.add_experimental_option(\"prefs\", chrome_prefs)\n",
    "    driver = webdriver.Chrome(ChromeDriverManager().install(), options=chrome_options)\n",
    "    return driver\n",
    "\n",
    "def get_val_By_TAG_NAME(tag_name_selector):\n",
    "    try:name = driver.find_element(By.TAG_NAME,str(tag_name_selector)).text\n",
    "    except:name = 'Not found'\n",
    "    return name"
   ]
  },
  {
   "cell_type": "code",
   "execution_count": 3,
   "id": "a4b19a97",
   "metadata": {},
   "outputs": [
    {
     "name": "stderr",
     "output_type": "stream",
     "text": [
      "C:\\Users\\hp\\AppData\\Local\\Temp\\ipykernel_14780\\1201539435.py:24: DeprecationWarning: executable_path has been deprecated, please pass in a Service object\n",
      "  driver = webdriver.Chrome(ChromeDriverManager().install(), options=chrome_options)\n"
     ]
    }
   ],
   "source": [
    "driver = chrome_browser()\n",
    "time.sleep(1)\n",
    "driver.get('https://www.facebook.com/profile.php?id=100001153462402')"
   ]
  },
  {
   "cell_type": "markdown",
   "id": "518f705c",
   "metadata": {},
   "source": [
    "# Login"
   ]
  },
  {
   "cell_type": "code",
   "execution_count": 4,
   "id": "c9f7df4c",
   "metadata": {},
   "outputs": [
    {
     "ename": "SyntaxError",
     "evalue": "invalid syntax (354490306.py, line 9)",
     "output_type": "error",
     "traceback": [
      "\u001b[1;36m  File \u001b[1;32m\"C:\\Users\\hp\\AppData\\Local\\Temp\\ipykernel_14780\\354490306.py\"\u001b[1;36m, line \u001b[1;32m9\u001b[0m\n\u001b[1;33m    excpet:\u001b[0m\n\u001b[1;37m    ^\u001b[0m\n\u001b[1;31mSyntaxError\u001b[0m\u001b[1;31m:\u001b[0m invalid syntax\n"
     ]
    }
   ],
   "source": [
    "email = driver.find_element(By.CSS_SELECTOR,'#email')\n",
    "email.clear()\n",
    "email.send_keys(\"toyol46583@tourcc.com\")\n",
    "password = driver.find_element(By.CSS_SELECTOR,'#pass')\n",
    "password.clear()\n",
    "password.send_keys(\"a123456789\")\n",
    "try:\n",
    "    driver.find_element(By.CSS_SELECTOR,'#u_0_0_JI').click()\n",
    "excpet:\n",
    "    input(\"Unable to Login Try manually and then press enter to start the script\")\n",
    "time.sleep(1)"
   ]
  },
  {
   "cell_type": "markdown",
   "id": "9c68e7a3",
   "metadata": {},
   "source": [
    "# Main"
   ]
  },
  {
   "cell_type": "code",
   "execution_count": null,
   "id": "65b43794",
   "metadata": {},
   "outputs": [],
   "source": [
    "driver.get('https://www.facebook.com/profile.php?id=100001153462402')\n",
    "# df = pd.read_excel(r\"C:\\Users\\hp\\Music\\fb_group_member_profile_scraper\\Main\\main(hamza).xlsx\")\n",
    "# df['work_at'] = ''\n",
    "# df['lives_in'] = ''\n",
    "# df['Studies'] = ''\n",
    "# df['full_name'] = ''\n",
    "count = 0\n",
    "for row in df.itertuples():\n",
    "    count = count +1\n",
    "    \n",
    "    if count > 3156:\n",
    "\n",
    "        print(f\"{count}/{df.shape[0]}\")\n",
    "        index  = getattr(row,'Index')\n",
    "        url    = \"https://\"+ getattr(row, 'profile_url')\n",
    "        driver.get(url)\n",
    "        \n",
    "        \n",
    "        \n",
    "        while driver.execute_script(\"return document.readyState\") != \"complete\":\n",
    "            pass\n",
    "        \n",
    "        try:\n",
    "            ttt = (( driver.find_element(By.CSS_SELECTOR,'.x1xlr1w8').text == \"This content isn't available at the moment\") | (driver.find_element(By.CSS_SELECTOR,'.x1xlr1w8').text == \"This content isn't available right now\"))\n",
    "\n",
    "            if ttt:\n",
    "                continue\n",
    "            else:\n",
    "                pass\n",
    "        except:\n",
    "            pass\n",
    "        driver.find_element(By.PARTIAL_LINK_TEXT ,'About').click()\n",
    "        time.sleep(0.5)\n",
    "        source = str(driver.page_source)\n",
    "        full_name_i = get_val_By_TAG_NAME(\"h1\")\n",
    "        work_at, lives_in, studies_in = get_data(source)\n",
    "    #     print(work_at, lives_in, studies_in,full_name_i )\n",
    "        df.at[index,'work_at']  = work_at\n",
    "        df.at[index,'lives_in'] = lives_in\n",
    "        df.at[index,'Studies']  = studies_in\n",
    "        df.at[index, 'full_name'] = full_name_i\n",
    "        clear_output(wait=True)"
   ]
  },
  {
   "cell_type": "code",
   "execution_count": null,
   "id": "6d79aab3",
   "metadata": {},
   "outputs": [],
   "source": [
    "df.to_excel(r\"final.xlsx\", index=False)"
   ]
  },
  {
   "cell_type": "code",
   "execution_count": null,
   "id": "48c45642",
   "metadata": {},
   "outputs": [],
   "source": [
    "input_file = (r\"C:\\Users\\hp\\Music\\fb_group_member_profile_scraper\\738.xlsx\")\n",
    "df = pd.read_excel(input_file)\n",
    "list(set(df['urls'].to_list()))"
   ]
  },
  {
   "cell_type": "markdown",
   "id": "f9925b51",
   "metadata": {},
   "source": [
    "# Get the profiel Name & spliting the group Url into Main Url"
   ]
  },
  {
   "cell_type": "code",
   "execution_count": null,
   "id": "906351e9",
   "metadata": {},
   "outputs": [],
   "source": []
  },
  {
   "cell_type": "code",
   "execution_count": null,
   "id": "7079bb13",
   "metadata": {},
   "outputs": [],
   "source": [
    "df"
   ]
  },
  {
   "cell_type": "code",
   "execution_count": 3,
   "id": "f987ff10",
   "metadata": {},
   "outputs": [
    {
     "ename": "NameError",
     "evalue": "name 'pd' is not defined",
     "output_type": "error",
     "traceback": [
      "\u001b[1;31m---------------------------------------------------------------------------\u001b[0m",
      "\u001b[1;31mNameError\u001b[0m                                 Traceback (most recent call last)",
      "\u001b[1;32m~\\AppData\\Local\\Temp\\ipykernel_23364\\1543071908.py\u001b[0m in \u001b[0;36m<module>\u001b[1;34m\u001b[0m\n\u001b[0;32m      4\u001b[0m \u001b[1;31m# Read in the input Excel file containing the Facebook group member profile URLs\u001b[0m\u001b[1;33m\u001b[0m\u001b[1;33m\u001b[0m\u001b[0m\n\u001b[0;32m      5\u001b[0m \u001b[0minput_file\u001b[0m \u001b[1;33m=\u001b[0m \u001b[1;33m(\u001b[0m\u001b[1;34mr\"C:\\Users\\hp\\Music\\fb_group_member_profile_scraper\\738.xlsx\"\u001b[0m\u001b[1;33m)\u001b[0m\u001b[1;33m\u001b[0m\u001b[1;33m\u001b[0m\u001b[0m\n\u001b[1;32m----> 6\u001b[1;33m \u001b[0mdf\u001b[0m \u001b[1;33m=\u001b[0m \u001b[0mpd\u001b[0m\u001b[1;33m.\u001b[0m\u001b[0mread_excel\u001b[0m\u001b[1;33m(\u001b[0m\u001b[0minput_file\u001b[0m\u001b[1;33m)\u001b[0m\u001b[1;33m\u001b[0m\u001b[1;33m\u001b[0m\u001b[0m\n\u001b[0m\u001b[0;32m      7\u001b[0m \u001b[1;33m\u001b[0m\u001b[0m\n\u001b[0;32m      8\u001b[0m \u001b[1;32mfor\u001b[0m \u001b[0mrow\u001b[0m \u001b[1;32min\u001b[0m \u001b[0mdf\u001b[0m\u001b[1;33m.\u001b[0m\u001b[0mitertuples\u001b[0m\u001b[1;33m(\u001b[0m\u001b[1;33m)\u001b[0m\u001b[1;33m:\u001b[0m\u001b[1;33m\u001b[0m\u001b[1;33m\u001b[0m\u001b[0m\n",
      "\u001b[1;31mNameError\u001b[0m: name 'pd' is not defined"
     ]
    }
   ],
   "source": [
    "name_list      = []\n",
    "# profiles_list  = []\n",
    "\n",
    "# Read in the input Excel file containing the Facebook group member profile URLs\n",
    "input_file = (r\"C:\\Users\\hp\\Music\\fb_group_member_profile_scraper\\738.xlsx\")\n",
    "df = pd.read_excel(input_file)\n",
    "\n",
    "for row in df.itertuples():\n",
    "    indx = getattr(row, 'Index')\n",
    "    print(indx)\n",
    "    url = getattr(row,'urls')\n",
    "    \n",
    "    driver.get(\"https://\"+url)\n",
    "    name_ = get_val_By_TAG_NAME('h1')\n",
    "    if name_ == 'Not found':\n",
    "        print(\"error\")\n",
    "        print(ur)\n",
    "#         input(\"enter the \")\n",
    "    df.at[indx,'name' ] = name_\n",
    "\n",
    "# for ur in list(set(df['urls'].to_list())):\n",
    "#     # Navigate to the URL\n",
    "#     driver.get(\"https://\"+ur)\n",
    "# #     user_Idss  = driver.current_url.split(\"/user/\")[-1].replace('/','')\n",
    "# #     profile    = f'https://www.facebook.com/profile.php?id={user_Idss}'\n",
    "# #     driver.get(profile)\n",
    "    \n",
    "    \n",
    "    \n",
    "# #     profiles_list.append(profile)\n",
    "#     name_ = get_val_By_TAG_NAME('h1')\n",
    "#     if name_ == 'Not found':\n",
    "#         print(\"error\")\n",
    "#         print(ur)\n",
    "# #         input(\"enter the \")\n",
    "#     name_list.append(name_)\n",
    "    \n",
    "    \n",
    "# Create a new DataFrame from the scraped data\n",
    "# data = {'Name':name_list}\n",
    "# result_df = pd.DataFrame(data)\n",
    "\n",
    "# # Save the DataFrame to a new Excel file\n",
    "# result_df.to_excel('fb_profile_memeber_Names(738).xlsx', index=False)"
   ]
  },
  {
   "cell_type": "code",
   "execution_count": 2,
   "id": "959d10d9",
   "metadata": {},
   "outputs": [
    {
     "ename": "NameError",
     "evalue": "name 'df' is not defined",
     "output_type": "error",
     "traceback": [
      "\u001b[1;31m---------------------------------------------------------------------------\u001b[0m",
      "\u001b[1;31mNameError\u001b[0m                                 Traceback (most recent call last)",
      "\u001b[1;32m~\\AppData\\Local\\Temp\\ipykernel_23364\\1396537375.py\u001b[0m in \u001b[0;36m<module>\u001b[1;34m\u001b[0m\n\u001b[1;32m----> 1\u001b[1;33m \u001b[0mdf\u001b[0m\u001b[1;33m\u001b[0m\u001b[1;33m\u001b[0m\u001b[0m\n\u001b[0m",
      "\u001b[1;31mNameError\u001b[0m: name 'df' is not defined"
     ]
    }
   ],
   "source": [
    "df"
   ]
  },
  {
   "cell_type": "code",
   "execution_count": 1,
   "id": "52b9458d",
   "metadata": {},
   "outputs": [
    {
     "ename": "NameError",
     "evalue": "name 'name_list' is not defined",
     "output_type": "error",
     "traceback": [
      "\u001b[1;31m---------------------------------------------------------------------------\u001b[0m",
      "\u001b[1;31mNameError\u001b[0m                                 Traceback (most recent call last)",
      "\u001b[1;32m~\\AppData\\Local\\Temp\\ipykernel_23364\\2550113537.py\u001b[0m in \u001b[0;36m<module>\u001b[1;34m\u001b[0m\n\u001b[0;32m      1\u001b[0m \u001b[1;31m# Create a new DataFrame from the scraped data\u001b[0m\u001b[1;33m\u001b[0m\u001b[1;33m\u001b[0m\u001b[0m\n\u001b[1;32m----> 2\u001b[1;33m \u001b[0mdata\u001b[0m \u001b[1;33m=\u001b[0m \u001b[1;33m{\u001b[0m\u001b[1;34m'Name'\u001b[0m\u001b[1;33m:\u001b[0m\u001b[0mname_list\u001b[0m\u001b[1;33m}\u001b[0m\u001b[1;33m\u001b[0m\u001b[1;33m\u001b[0m\u001b[0m\n\u001b[0m\u001b[0;32m      3\u001b[0m \u001b[0mresult_df\u001b[0m \u001b[1;33m=\u001b[0m \u001b[0mpd\u001b[0m\u001b[1;33m.\u001b[0m\u001b[0mDataFrame\u001b[0m\u001b[1;33m(\u001b[0m\u001b[0mdata\u001b[0m\u001b[1;33m)\u001b[0m\u001b[1;33m\u001b[0m\u001b[1;33m\u001b[0m\u001b[0m\n\u001b[0;32m      4\u001b[0m \u001b[1;31m# Save the DataFrame to a new Excel file\u001b[0m\u001b[1;33m\u001b[0m\u001b[1;33m\u001b[0m\u001b[0m\n\u001b[0;32m      5\u001b[0m \u001b[0mresult_df\u001b[0m\u001b[1;33m.\u001b[0m\u001b[0mto_excel\u001b[0m\u001b[1;33m(\u001b[0m\u001b[1;34m'fb_profile_memeber_Names(738).xlsx'\u001b[0m\u001b[1;33m,\u001b[0m \u001b[0mindex\u001b[0m\u001b[1;33m=\u001b[0m\u001b[1;32mFalse\u001b[0m\u001b[1;33m)\u001b[0m\u001b[1;33m\u001b[0m\u001b[1;33m\u001b[0m\u001b[0m\n",
      "\u001b[1;31mNameError\u001b[0m: name 'name_list' is not defined"
     ]
    }
   ],
   "source": [
    "# Create a new DataFrame from the scraped data\n",
    "data = {'Name':name_list}\n",
    "result_df = pd.DataFrame(data)\n",
    "# Save the DataFrame to a new Excel file\n",
    "result_df.to_excel('fb_profile_memeber_Names(738).xlsx', index=False)"
   ]
  },
  {
   "cell_type": "markdown",
   "id": "b99e8900",
   "metadata": {},
   "source": [
    "# Get the Work and Live, Studies from the profile url"
   ]
  },
  {
   "cell_type": "markdown",
   "id": "d189eece",
   "metadata": {},
   "source": [
    "- Function"
   ]
  },
  {
   "cell_type": "code",
   "execution_count": null,
   "id": "6dbaf35d",
   "metadata": {},
   "outputs": [],
   "source": [
    "def get_data(source):\n",
    "    work_at    = lives_in =  studies_in = ''\n",
    "    work_at_pattern    = r'\"text\":\"Works at .*?\"'\n",
    "    lives_in_pattern   = r'\"text\":\"Lives in .*?\"'\n",
    "    studies_in_pattern = r'\"text\":\"Studies at .*?\"'\n",
    "    work_at_p          = re.search(work_at_pattern, source)\n",
    "    lives_in_p         = re.search(lives_in_pattern, source)\n",
    "    studies_in_p       = re.search(studies_in_pattern, source)\n",
    "    if work_at_p:\n",
    "        work_at = work_at_p.group().replace('\"text\":','').replace('\"','')\n",
    "    if lives_in_p:\n",
    "        lives_in = lives_in_p.group().replace('\"text\":','').replace('\"','')\n",
    "    if studies_in_p:\n",
    "        studies_in = studies_in_p.group().replace('\"text\":','').replace('\"','')\n",
    "    return work_at, lives_in, studies_in\n",
    "def chrome_browser():\n",
    "    chrome_options = Options()\n",
    "    chrome_prefs = {}\n",
    "    chrome_prefs[\"profile.default_content_settings\"] = {\"images\": 2}\n",
    "    chrome_prefs[\"profile.managed_default_content_settings\"] = {\"images\": 2}\n",
    "    chrome_options.add_argument(\"start-maximized\")\n",
    "    chrome_options.add_experimental_option(\"prefs\", chrome_prefs)\n",
    "    driver = webdriver.Chrome(ChromeDriverManager().install(), options=chrome_options)\n",
    "    return driver"
   ]
  },
  {
   "cell_type": "code",
   "execution_count": null,
   "id": "b617a35b",
   "metadata": {},
   "outputs": [],
   "source": [
    "# Read the Excel file\n",
    "df = pd.read_excel(r\"C:\\Users\\Hundred Alpha\\Downloads\\url_name_first&last(2036).xlsx\")"
   ]
  },
  {
   "cell_type": "code",
   "execution_count": null,
   "id": "873dddc0",
   "metadata": {},
   "outputs": [],
   "source": [
    "driver = chrome_browser()\n",
    "driver.get('https://www.facebook.com/profile.php?id=100001153462402')\n",
    "## Login\n",
    "email = driver.find_element(By.CSS_SELECTOR,'#email')\n",
    "email.clear()\n",
    "email.send_keys(\"toyol46583@tourcc.com\")\n",
    "password = driver.find_element(By.CSS_SELECTOR,'#pass')\n",
    "password.clear()\n",
    "password.send_keys(\"a123456789\")\n",
    "driver.find_element(By.CSS_SELECTOR,'#u_0_0_JI').click()\n",
    "## Login\n",
    "driver.get('https://www.facebook.com/profile.php?id=100001153462402')\n",
    "count = 0\n",
    "for row in df.itertuples():\n",
    "    count = count +1\n",
    "    print(f\"{count}/{df.shape[0]}\")\n",
    "    index = getattr(row,'Index')\n",
    "    url = getattr(row, 'profile_url')\n",
    "    driver.get(url)\n",
    "    while driver.execute_script(\"return document.readyState\") != \"complete\":\n",
    "        pass\n",
    "    driver.find_element(By.PARTIAL_LINK_TEXT ,'About').click()\n",
    "    time.sleep(0.5)\n",
    "    source = str(driver.page_source)\n",
    "    work_at, lives_in, studies_in = get_data(source)\n",
    "    df.at[index,'work_at']  = work_at\n",
    "    df.at[index,'lives_in'] = lives_in\n",
    "    df.at[index,'Studies']  = studies_in\n",
    "    clear_output(wait=True)\n",
    "#     print(get_data(source))"
   ]
  },
  {
   "cell_type": "code",
   "execution_count": null,
   "id": "86a6fc59",
   "metadata": {},
   "outputs": [],
   "source": []
  },
  {
   "cell_type": "code",
   "execution_count": null,
   "id": "4255a18a",
   "metadata": {},
   "outputs": [],
   "source": []
  },
  {
   "cell_type": "code",
   "execution_count": null,
   "id": "0c8cf5bc",
   "metadata": {},
   "outputs": [],
   "source": []
  },
  {
   "cell_type": "code",
   "execution_count": 4,
   "id": "aad19c94",
   "metadata": {},
   "outputs": [
    {
     "name": "stderr",
     "output_type": "stream",
     "text": [
      "C:\\Users\\hp\\AppData\\Local\\Temp\\ipykernel_23364\\2458648695.py:37: DeprecationWarning: executable_path has been deprecated, please pass in a Service object\n",
      "  driver = webdriver.Chrome(ChromeDriverManager().install(), options=chrome_options)\n"
     ]
    }
   ],
   "source": [
    "from ast                                import literal_eval\n",
    "from IPython.display                    import clear_output\n",
    "from bs4                                import BeautifulSoup as bs\n",
    "from selenium                           import webdriver\n",
    "from selenium.webdriver.common.by       import By\n",
    "from selenium.webdriver.chrome.options  import Options\n",
    "from selenium.webdriver.support.ui      import WebDriverWait\n",
    "from selenium.common.exceptions         import TimeoutException\n",
    "from webdriver_manager.chrome           import ChromeDriverManager\n",
    "from selenium.webdriver.support         import expected_conditions as EC\n",
    "import pandas as pd, requests as rq, time, os, sys, logging, re\n",
    "\n",
    "\n",
    "def get_data(source):\n",
    "    work_at    = lives_in =  studies_in = ''\n",
    "    work_at_pattern    = r'\"text\":\"Works at .*?\"'\n",
    "    lives_in_pattern   = r'\"text\":\"Lives in .*?\"'\n",
    "    studies_in_pattern = r'\"text\":\"Studies at .*?\"'\n",
    "    work_at_p          = re.search(work_at_pattern, source)\n",
    "    lives_in_p         = re.search(lives_in_pattern, source)\n",
    "    studies_in_p       = re.search(studies_in_pattern, source)\n",
    "    if work_at_p:\n",
    "        work_at = work_at_p.group().replace('\"text\":','').replace('\"','')\n",
    "    if lives_in_p:\n",
    "        lives_in = lives_in_p.group().replace('\"text\":','').replace('\"','')\n",
    "    if studies_in_p:\n",
    "        studies_in = studies_in_p.group().replace('\"text\":','').replace('\"','')\n",
    "    return work_at, lives_in, studies_in\n",
    "\n",
    "def chrome_browser():\n",
    "    chrome_options = Options()\n",
    "    chrome_prefs = {}\n",
    "    chrome_prefs[\"profile.default_content_settings\"] = {\"images\": 2}\n",
    "    chrome_prefs[\"profile.managed_default_content_settings\"] = {\"images\": 2}\n",
    "    chrome_options.add_argument(\"start-maximized\")\n",
    "    chrome_options.add_experimental_option(\"prefs\", chrome_prefs)\n",
    "    driver = webdriver.Chrome(ChromeDriverManager().install(), options=chrome_options)\n",
    "    return driver\n",
    "\n",
    "def get_val_By_TAG_NAME(tag_name_selector):\n",
    "    try:name = driver.find_element(By.TAG_NAME,str(tag_name_selector)).text\n",
    "    except:name = 'Not found'\n",
    "    return name\n",
    "\n",
    "\n",
    "driver = chrome_browser()\n",
    "time.sleep(1)\n",
    "driver.get('https://www.facebook.com/profile.php?id=100001153462402')"
   ]
  },
  {
   "cell_type": "code",
   "execution_count": null,
   "id": "50ad82ee",
   "metadata": {},
   "outputs": [],
   "source": [
    "email = driver.find_element(By.CSS_SELECTOR,'#email')\n",
    "email.clear()\n",
    "email.send_keys(\"toyol46583@tourcc.com\")\n",
    "password = driver.find_element(By.CSS_SELECTOR,'#pass')\n",
    "password.clear()\n",
    "password.send_keys(\"a123456789\")\n",
    "try:\n",
    "    driver.find_element(By.CSS_SELECTOR,'#u_0_0_JI').click()\n",
    "except:\n",
    "    input(\"Unable to Login Try manually and then press enter to start the script\")\n",
    "time.sleep(1)"
   ]
  },
  {
   "cell_type": "code",
   "execution_count": 11,
   "id": "0cab1c26",
   "metadata": {},
   "outputs": [],
   "source": [
    "name_list      = []\n",
    "# profiles_list  = []\n",
    "\n",
    "# Read in the input Excel file containing the Facebook group member profile URLs\n",
    "input_file = (r\"C:\\Users\\hp\\Music\\fb_group_member_profile_scraper\\738.xlsx\")\n",
    "df = pd.read_excel(input_file)\n",
    "df['page_title'] = \"\""
   ]
  },
  {
   "cell_type": "code",
   "execution_count": 12,
   "id": "996e67ee",
   "metadata": {},
   "outputs": [
    {
     "name": "stdout",
     "output_type": "stream",
     "text": [
      "0\n",
      "1\n",
      "2\n",
      "3\n",
      "4\n",
      "5\n",
      "6\n",
      "7\n",
      "8\n",
      "9\n",
      "10\n",
      "11\n",
      "12\n",
      "13\n",
      "14\n",
      "15\n",
      "16\n",
      "17\n",
      "18\n",
      "19\n",
      "20\n",
      "21\n",
      "22\n",
      "23\n",
      "24\n",
      "25\n",
      "26\n",
      "27\n",
      "28\n",
      "29\n",
      "30\n",
      "31\n",
      "32\n",
      "33\n",
      "34\n",
      "35\n",
      "36\n",
      "37\n",
      "38\n",
      "39\n",
      "40\n",
      "41\n",
      "42\n",
      "43\n",
      "44\n",
      "45\n",
      "46\n",
      "47\n",
      "48\n",
      "49\n",
      "50\n",
      "51\n",
      "52\n",
      "53\n",
      "54\n",
      "55\n",
      "56\n",
      "57\n",
      "58\n",
      "59\n",
      "60\n",
      "61\n",
      "62\n",
      "63\n",
      "64\n",
      "65\n",
      "66\n",
      "67\n",
      "68\n",
      "69\n",
      "70\n",
      "71\n",
      "72\n",
      "73\n",
      "74\n",
      "75\n",
      "76\n",
      "77\n",
      "78\n",
      "79\n",
      "80\n",
      "81\n",
      "82\n",
      "83\n",
      "84\n",
      "85\n",
      "86\n",
      "87\n",
      "88\n",
      "89\n",
      "90\n",
      "91\n",
      "92\n",
      "93\n",
      "94\n",
      "95\n",
      "96\n",
      "97\n",
      "98\n",
      "99\n",
      "100\n",
      "101\n",
      "102\n",
      "103\n",
      "104\n",
      "105\n",
      "106\n",
      "107\n",
      "108\n",
      "109\n",
      "110\n",
      "111\n",
      "112\n",
      "113\n",
      "114\n",
      "115\n",
      "116\n",
      "117\n",
      "118\n",
      "119\n",
      "120\n",
      "121\n",
      "122\n",
      "123\n",
      "124\n",
      "error\n"
     ]
    },
    {
     "ename": "NameError",
     "evalue": "name 'ur' is not defined",
     "output_type": "error",
     "traceback": [
      "\u001b[1;31m---------------------------------------------------------------------------\u001b[0m",
      "\u001b[1;31mNameError\u001b[0m                                 Traceback (most recent call last)",
      "\u001b[1;32m~\\AppData\\Local\\Temp\\ipykernel_23364\\2383538168.py\u001b[0m in \u001b[0;36m<module>\u001b[1;34m\u001b[0m\n\u001b[0;32m      9\u001b[0m     \u001b[1;32mif\u001b[0m \u001b[0mname_\u001b[0m \u001b[1;33m==\u001b[0m \u001b[1;34m'Not found'\u001b[0m\u001b[1;33m:\u001b[0m\u001b[1;33m\u001b[0m\u001b[1;33m\u001b[0m\u001b[0m\n\u001b[0;32m     10\u001b[0m         \u001b[0mprint\u001b[0m\u001b[1;33m(\u001b[0m\u001b[1;34m\"error\"\u001b[0m\u001b[1;33m)\u001b[0m\u001b[1;33m\u001b[0m\u001b[1;33m\u001b[0m\u001b[0m\n\u001b[1;32m---> 11\u001b[1;33m         \u001b[0mprint\u001b[0m\u001b[1;33m(\u001b[0m\u001b[0mur\u001b[0m\u001b[1;33m)\u001b[0m\u001b[1;33m\u001b[0m\u001b[1;33m\u001b[0m\u001b[0m\n\u001b[0m\u001b[0;32m     12\u001b[0m     \u001b[0mdf\u001b[0m\u001b[1;33m.\u001b[0m\u001b[0mat\u001b[0m\u001b[1;33m[\u001b[0m\u001b[0mindx\u001b[0m\u001b[1;33m,\u001b[0m\u001b[1;34m'name'\u001b[0m \u001b[1;33m]\u001b[0m \u001b[1;33m=\u001b[0m \u001b[0mname_\u001b[0m\u001b[1;33m\u001b[0m\u001b[1;33m\u001b[0m\u001b[0m\n\u001b[0;32m     13\u001b[0m \u001b[1;33m\u001b[0m\u001b[0m\n",
      "\u001b[1;31mNameError\u001b[0m: name 'ur' is not defined"
     ]
    }
   ],
   "source": [
    "\n",
    "\n",
    "\n",
    "# df = df.head(3)\n",
    "for row in df.itertuples():\n",
    "    indx = getattr(row, 'Index')\n",
    "    print(indx)\n",
    "    url = getattr(row,'urls')\n",
    "    \n",
    "    driver.get(\"https://\"+url)\n",
    "    name_ = get_val_By_TAG_NAME('h1')\n",
    "    if name_ == 'Not found':\n",
    "        print(\"error\")\n",
    "        print(ur)\n",
    "    df.at[indx,'name' ] = name_\n",
    "    \n",
    "    df.at[indx,'page_title' ]  = driver.title\n",
    "\n",
    "\n",
    "    \n",
    "    \n",
    "# Create a new DataFrame from the scraped data\n",
    "# data = {'Name':name_list}\n",
    "# result_df = pd.DataFrame(data)\n",
    "\n",
    "# # Save the DataFrame to a new Excel file\n",
    "# result_df.to_excel('fb_profile_memeber_Names(738).xlsx', index=False)"
   ]
  },
  {
   "cell_type": "code",
   "execution_count": 10,
   "id": "1b862350",
   "metadata": {},
   "outputs": [
    {
     "data": {
      "text/html": [
       "<div>\n",
       "<style scoped>\n",
       "    .dataframe tbody tr th:only-of-type {\n",
       "        vertical-align: middle;\n",
       "    }\n",
       "\n",
       "    .dataframe tbody tr th {\n",
       "        vertical-align: top;\n",
       "    }\n",
       "\n",
       "    .dataframe thead th {\n",
       "        text-align: right;\n",
       "    }\n",
       "</style>\n",
       "<table border=\"1\" class=\"dataframe\">\n",
       "  <thead>\n",
       "    <tr style=\"text-align: right;\">\n",
       "      <th></th>\n",
       "      <th>urls</th>\n",
       "      <th>name</th>\n",
       "      <th>page_title</th>\n",
       "    </tr>\n",
       "  </thead>\n",
       "  <tbody>\n",
       "    <tr>\n",
       "      <th>0</th>\n",
       "      <td>www.facebook.com/profile.php?id=516164414</td>\n",
       "      <td>Sharyn Fearon</td>\n",
       "      <td>Sharyn Fearon | Facebook</td>\n",
       "    </tr>\n",
       "    <tr>\n",
       "      <th>1</th>\n",
       "      <td>www.facebook.com/profile.php?id=532281233</td>\n",
       "      <td>Christa Honti</td>\n",
       "      <td>Christa Honti</td>\n",
       "    </tr>\n",
       "    <tr>\n",
       "      <th>2</th>\n",
       "      <td>www.facebook.com/profile.php?id=638812383</td>\n",
       "      <td>Lynne Hefferon</td>\n",
       "      <td>Lynne Hefferon | Facebook</td>\n",
       "    </tr>\n",
       "  </tbody>\n",
       "</table>\n",
       "</div>"
      ],
      "text/plain": [
       "                                        urls            name  \\\n",
       "0  www.facebook.com/profile.php?id=516164414   Sharyn Fearon   \n",
       "1  www.facebook.com/profile.php?id=532281233   Christa Honti   \n",
       "2  www.facebook.com/profile.php?id=638812383  Lynne Hefferon   \n",
       "\n",
       "                  page_title  \n",
       "0   Sharyn Fearon | Facebook  \n",
       "1              Christa Honti  \n",
       "2  Lynne Hefferon | Facebook  "
      ]
     },
     "execution_count": 10,
     "metadata": {},
     "output_type": "execute_result"
    }
   ],
   "source": [
    "df"
   ]
  },
  {
   "cell_type": "code",
   "execution_count": null,
   "id": "b6fbb082",
   "metadata": {},
   "outputs": [],
   "source": []
  }
 ],
 "metadata": {
  "kernelspec": {
   "display_name": "Python 3 (ipykernel)",
   "language": "python",
   "name": "python3"
  },
  "language_info": {
   "codemirror_mode": {
    "name": "ipython",
    "version": 3
   },
   "file_extension": ".py",
   "mimetype": "text/x-python",
   "name": "python",
   "nbconvert_exporter": "python",
   "pygments_lexer": "ipython3",
   "version": "3.9.13"
  }
 },
 "nbformat": 4,
 "nbformat_minor": 5
}
