{
 "cells": [
  {
   "cell_type": "code",
   "execution_count": 2,
   "id": "e63aa279",
   "metadata": {},
   "outputs": [],
   "source": [
    "import pandas as pd\n",
    "\n",
    "# read the Excel file into a pandas DataFrame\n",
    "df = pd.read_excel(r\"C:\\Users\\hp\\Music\\fb_profile_scrap_beautifulsoup\\fb_profile_work&loc..xlsx\")\n",
    "\n",
    "# replace all square brackets and commas with empty strings\n",
    "df = df.astype(str).replace(to_replace=r'[\\[\\],]', value='', regex=True)\n",
    "\n",
    "# write the modified DataFrame back to the Excel file\n",
    "df.to_excel('modified_file.xlsx', index=False)\n"
   ]
  },
  {
   "cell_type": "code",
   "execution_count": 3,
   "id": "02e3a97b",
   "metadata": {},
   "outputs": [],
   "source": [
    "import pandas as pd\n",
    "\n",
    "# read the Excel file into a pandas DataFrame\n",
    "df = pd.read_excel(r\"C:\\Users\\hp\\Music\\fb_profile_scrap_beautifulsoup\\result(2304to3331).xlsx\")\n",
    "\n",
    "# replace all square brackets, commas, single quotes, and double quotes with empty strings\n",
    "df = df.astype(str).replace(to_replace=r'[\\[\\],\\'\"]', value='', regex=True)\n",
    "\n",
    "# write the modified DataFrame back to the Excel file\n",
    "df.to_excel('cleaned_data(work&loc)2304to3331.xlsx', index=False)"
   ]
  },
  {
   "cell_type": "code",
   "execution_count": null,
   "id": "1e4d111c",
   "metadata": {},
   "outputs": [],
   "source": []
  }
 ],
 "metadata": {
  "kernelspec": {
   "display_name": "Python 3 (ipykernel)",
   "language": "python",
   "name": "python3"
  },
  "language_info": {
   "codemirror_mode": {
    "name": "ipython",
    "version": 3
   },
   "file_extension": ".py",
   "mimetype": "text/x-python",
   "name": "python",
   "nbconvert_exporter": "python",
   "pygments_lexer": "ipython3",
   "version": "3.9.13"
  }
 },
 "nbformat": 4,
 "nbformat_minor": 5
}
