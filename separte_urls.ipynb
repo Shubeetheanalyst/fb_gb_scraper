{
 "cells": [
  {
   "cell_type": "code",
   "execution_count": 2,
   "id": "731438fe",
   "metadata": {},
   "outputs": [
    {
     "name": "stdout",
     "output_type": "stream",
     "text": [
      "Extracted URLs saved to extracted_urls.xlsx\n"
     ]
    }
   ],
   "source": [
    "import pandas as pd\n",
    "\n",
    "# Set the filename and column name of the URLs to be checked\n",
    "filename = r\"C:\\Users\\hp\\Music\\fb_profile_scrap_beautifulsoup\\Main\\6583.xlsx\"\n",
    "new_filename = \"extracted_urls.xlsx\"\n",
    "column_name = \"Urls\"\n",
    "\n",
    "# Read the Excel file into a pandas DataFrame\n",
    "df = pd.read_excel(filename)\n",
    "\n",
    "# Extract the URLs containing \"groups\" or \"users\" from the specified column\n",
    "group_urls = df[column_name][df[column_name].str.contains(\"groups\")]\n",
    "user_urls = df[column_name][df[column_name].str.contains(\"users\")]\n",
    "\n",
    "new_df = pd.DataFrame({\n",
    "    \"Group URLs\": group_urls,\n",
    "    \"User URLs\": user_urls\n",
    "})\n",
    "\n",
    "# Save the new DataFrame to a new Excel file\n",
    "new_df.to_excel(new_filename, index=False)\n",
    "\n",
    "print(\"Extracted URLs saved to\", new_filename)"
   ]
  },
  {
   "cell_type": "code",
   "execution_count": 15,
   "id": "98ce1ed9",
   "metadata": {},
   "outputs": [],
   "source": [
    "import pandas as pd\n",
    "\n",
    "# read the original excel file\n",
    "df = pd.read_excel(r\"C:\\Users\\hp\\Music\\fb_profile_scrap_beautifulsoup\\new\\5594.xlsx\")\n",
    "\n",
    "# create an empty list to store the filtered URLs\n",
    "filtered_urls = []\n",
    "\n",
    "# loop through the URLs in the dataframe\n",
    "for url in df['URLs']:\n",
    "    # check if the URL contains both \"groups\" and \"users\"\n",
    "    if 'groups' in url and 'users' in url:\n",
    "        # if it does, append it to the filtered URLs list\n",
    "        filtered_urls.append(url)\n",
    "\n",
    "# create a new dataframe with the filtered URLs\n",
    "filtered_df = pd.DataFrame({'URLs': filtered_urls})\n",
    "\n",
    "# save the filtered data to a new excel file\n",
    "filtered_df.to_excel('filtered_urls.xlsx', index=False)\n"
   ]
  },
  {
   "cell_type": "code",
   "execution_count": 16,
   "id": "9a0caf83",
   "metadata": {},
   "outputs": [
    {
     "data": {
      "text/plain": [
       "[]"
      ]
     },
     "execution_count": 16,
     "metadata": {},
     "output_type": "execute_result"
    }
   ],
   "source": [
    "filtered_urls"
   ]
  },
  {
   "cell_type": "markdown",
   "id": "1e26aa59",
   "metadata": {},
   "source": [
    "# Open the Google Derive"
   ]
  },
  {
   "cell_type": "code",
   "execution_count": 19,
   "id": "158ec482",
   "metadata": {},
   "outputs": [],
   "source": [
    "# !pip install gspread"
   ]
  },
  {
   "cell_type": "code",
   "execution_count": 22,
   "id": "7f05019e",
   "metadata": {},
   "outputs": [],
   "source": [
    "# !pip install oauth2client"
   ]
  },
  {
   "cell_type": "code",
   "execution_count": 23,
   "id": "6088ca4d",
   "metadata": {},
   "outputs": [
    {
     "ename": "FileNotFoundError",
     "evalue": "[Errno 2] No such file or directory: 'creds.json'",
     "output_type": "error",
     "traceback": [
      "\u001b[1;31m---------------------------------------------------------------------------\u001b[0m",
      "\u001b[1;31mFileNotFoundError\u001b[0m                         Traceback (most recent call last)",
      "\u001b[1;32m~\\AppData\\Local\\Temp\\ipykernel_4924\\2226719947.py\u001b[0m in \u001b[0;36m<module>\u001b[1;34m\u001b[0m\n\u001b[0;32m      5\u001b[0m \u001b[1;31m# define the credentials to access the Google Drive API\u001b[0m\u001b[1;33m\u001b[0m\u001b[1;33m\u001b[0m\u001b[0m\n\u001b[0;32m      6\u001b[0m \u001b[0mscope\u001b[0m \u001b[1;33m=\u001b[0m \u001b[1;33m[\u001b[0m\u001b[1;34m'https://spreadsheets.google.com/feeds'\u001b[0m\u001b[1;33m,\u001b[0m \u001b[1;34m'https://www.googleapis.com/auth/drive'\u001b[0m\u001b[1;33m]\u001b[0m\u001b[1;33m\u001b[0m\u001b[1;33m\u001b[0m\u001b[0m\n\u001b[1;32m----> 7\u001b[1;33m \u001b[0mcreds\u001b[0m \u001b[1;33m=\u001b[0m \u001b[0mServiceAccountCredentials\u001b[0m\u001b[1;33m.\u001b[0m\u001b[0mfrom_json_keyfile_name\u001b[0m\u001b[1;33m(\u001b[0m\u001b[1;34m'creds.json'\u001b[0m\u001b[1;33m,\u001b[0m \u001b[0mscope\u001b[0m\u001b[1;33m)\u001b[0m\u001b[1;33m\u001b[0m\u001b[1;33m\u001b[0m\u001b[0m\n\u001b[0m\u001b[0;32m      8\u001b[0m \u001b[0mclient\u001b[0m \u001b[1;33m=\u001b[0m \u001b[0mgspread\u001b[0m\u001b[1;33m.\u001b[0m\u001b[0mauthorize\u001b[0m\u001b[1;33m(\u001b[0m\u001b[0mcreds\u001b[0m\u001b[1;33m)\u001b[0m\u001b[1;33m\u001b[0m\u001b[1;33m\u001b[0m\u001b[0m\n\u001b[0;32m      9\u001b[0m \u001b[1;33m\u001b[0m\u001b[0m\n",
      "\u001b[1;32m~\\anaconda3\\lib\\site-packages\\oauth2client\\service_account.py\u001b[0m in \u001b[0;36mfrom_json_keyfile_name\u001b[1;34m(cls, filename, scopes, token_uri, revoke_uri)\u001b[0m\n\u001b[0;32m    217\u001b[0m                 \u001b[0mthe\u001b[0m \u001b[0mkeyfile\u001b[0m\u001b[1;33m.\u001b[0m\u001b[1;33m\u001b[0m\u001b[1;33m\u001b[0m\u001b[0m\n\u001b[0;32m    218\u001b[0m         \"\"\"\n\u001b[1;32m--> 219\u001b[1;33m         \u001b[1;32mwith\u001b[0m \u001b[0mopen\u001b[0m\u001b[1;33m(\u001b[0m\u001b[0mfilename\u001b[0m\u001b[1;33m,\u001b[0m \u001b[1;34m'r'\u001b[0m\u001b[1;33m)\u001b[0m \u001b[1;32mas\u001b[0m \u001b[0mfile_obj\u001b[0m\u001b[1;33m:\u001b[0m\u001b[1;33m\u001b[0m\u001b[1;33m\u001b[0m\u001b[0m\n\u001b[0m\u001b[0;32m    220\u001b[0m             \u001b[0mclient_credentials\u001b[0m \u001b[1;33m=\u001b[0m \u001b[0mjson\u001b[0m\u001b[1;33m.\u001b[0m\u001b[0mload\u001b[0m\u001b[1;33m(\u001b[0m\u001b[0mfile_obj\u001b[0m\u001b[1;33m)\u001b[0m\u001b[1;33m\u001b[0m\u001b[1;33m\u001b[0m\u001b[0m\n\u001b[0;32m    221\u001b[0m         return cls._from_parsed_json_keyfile(client_credentials, scopes,\n",
      "\u001b[1;31mFileNotFoundError\u001b[0m: [Errno 2] No such file or directory: 'creds.json'"
     ]
    }
   ],
   "source": [
    "import gspread\n",
    "from oauth2client.service_account import ServiceAccountCredentials\n",
    "import pandas as pd\n",
    "\n",
    "# define the credentials to access the Google Drive API\n",
    "scope = ['https://spreadsheets.google.com/feeds', 'https://www.googleapis.com/auth/drive']\n",
    "creds = ServiceAccountCredentials.from_json_keyfile_name('creds.json', scope)\n",
    "client = gspread.authorize(creds)\n",
    "\n",
    "# open the Google Sheet by its URL\n",
    "url = 'https://docs.google.com/spreadsheets/d/1ixylZvhTQZuclF9xdfSPFnd7E9Rdlwox/edit#gid=0'\n",
    "sheet = client.open_by_url(url).sheet1\n",
    "\n",
    "# get all the values in the sheet as a list of lists\n",
    "values = sheet.get_all_values()\n",
    "\n",
    "# create a pandas dataframe from the list of lists\n",
    "df = pd.DataFrame(values[1:], columns=values[0])\n",
    "\n",
    "# create an empty list to store the filtered URLs\n",
    "filtered_urls = []\n",
    "\n",
    "# loop through the URLs in the dataframe\n",
    "for url in df['URLs']:\n",
    "    # check if the URL contains both \"groups\" and \"users\"\n",
    "    if 'groups' in url and 'users' in url:\n",
    "        # if it does, append it to the filtered URLs list\n",
    "        filtered_urls.append(url)\n",
    "\n",
    "# create a new dataframe with the filtered URLs\n",
    "filtered_df = pd.DataFrame({'URLs': filtered_urls})\n",
    "\n",
    "# save the filtered data to a new excel file\n",
    "filtered_df.to_excel('filtered_urls.xlsx', index=False)\n"
   ]
  },
  {
   "cell_type": "code",
   "execution_count": null,
   "id": "2ec08934",
   "metadata": {},
   "outputs": [],
   "source": []
  }
 ],
 "metadata": {
  "kernelspec": {
   "display_name": "Python 3 (ipykernel)",
   "language": "python",
   "name": "python3"
  },
  "language_info": {
   "codemirror_mode": {
    "name": "ipython",
    "version": 3
   },
   "file_extension": ".py",
   "mimetype": "text/x-python",
   "name": "python",
   "nbconvert_exporter": "python",
   "pygments_lexer": "ipython3",
   "version": "3.9.13"
  }
 },
 "nbformat": 4,
 "nbformat_minor": 5
}
